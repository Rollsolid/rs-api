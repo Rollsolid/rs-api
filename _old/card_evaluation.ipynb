{
 "cells": [
  {
   "cell_type": "code",
   "execution_count": 11,
   "metadata": {},
   "outputs": [
    {
     "data": {
      "text/plain": [
       "0"
      ]
     },
     "execution_count": 11,
     "metadata": {},
     "output_type": "execute_result"
    }
   ],
   "source": []
  },
  {
   "cell_type": "code",
   "execution_count": 17,
   "metadata": {},
   "outputs": [
    {
     "name": "stdout",
     "output_type": "stream",
     "text": [
      "-1\n"
     ]
    }
   ],
   "source": []
  },
  {
   "cell_type": "code",
   "execution_count": null,
   "metadata": {},
   "outputs": [
    {
     "ename": "TypeError",
     "evalue": "'int' object is not subscriptable",
     "output_type": "error",
     "traceback": [
      "\u001b[1;31m---------------------------------------------------------------------------\u001b[0m",
      "\u001b[1;31mTypeError\u001b[0m                                 Traceback (most recent call last)",
      "Cell \u001b[1;32mIn[14], line 60\u001b[0m\n\u001b[0;32m     58\u001b[0m all_cards_copy \u001b[39m=\u001b[39m all_cards\u001b[39m.\u001b[39mcopy()\n\u001b[0;32m     59\u001b[0m hands, flop \u001b[39m=\u001b[39m sample_flop_and_player_hands(all_cards_copy,n_other_players )\n\u001b[1;32m---> 60\u001b[0m res \u001b[39m=\u001b[39m eval_hands_QUICK(my_hand, hands, flop)\n\u001b[0;32m     61\u001b[0m \u001b[39mif\u001b[39;00m res \u001b[39m==\u001b[39m\u001b[39m1\u001b[39m:\n\u001b[0;32m     62\u001b[0m     num_wins \u001b[39m+\u001b[39m\u001b[39m=\u001b[39m\u001b[39m1\u001b[39m\n",
      "Cell \u001b[1;32mIn[1], line 97\u001b[0m, in \u001b[0;36meval_hands_QUICK\u001b[1;34m(player_hand, other_hands, flopped_cards)\u001b[0m\n\u001b[0;32m     96\u001b[0m \u001b[39mdef\u001b[39;00m \u001b[39meval_hands_QUICK\u001b[39m(player_hand, other_hands, flopped_cards):\n\u001b[1;32m---> 97\u001b[0m     best_rank \u001b[39m=\u001b[39m get_hand_rank(player_hand \u001b[39m+\u001b[39;49m flopped_cards)\n\u001b[0;32m     98\u001b[0m     winners \u001b[39m=\u001b[39m [player_hand]\n\u001b[0;32m     99\u001b[0m     draw_possible \u001b[39m=\u001b[39m \u001b[39mFalse\u001b[39;00m\n",
      "Cell \u001b[1;32mIn[1], line 15\u001b[0m, in \u001b[0;36mget_hand_rank\u001b[1;34m(hand)\u001b[0m\n\u001b[0;32m     13\u001b[0m \u001b[39mdef\u001b[39;00m \u001b[39mget_hand_rank\u001b[39m(hand):\n\u001b[0;32m     14\u001b[0m     rank_values \u001b[39m=\u001b[39m {rank\u001b[39m.\u001b[39mlower(): i \u001b[39mfor\u001b[39;00m i, rank \u001b[39min\u001b[39;00m \u001b[39menumerate\u001b[39m(ranks)}\n\u001b[1;32m---> 15\u001b[0m     ranks_count \u001b[39m=\u001b[39m [get_rank(card)\u001b[39m.\u001b[39mlower() \u001b[39mfor\u001b[39;00m card \u001b[39min\u001b[39;00m hand]\n\u001b[0;32m     16\u001b[0m     suits_count \u001b[39m=\u001b[39m [get_suit(card) \u001b[39mfor\u001b[39;00m card \u001b[39min\u001b[39;00m hand]\n\u001b[0;32m     17\u001b[0m     rank_counts \u001b[39m=\u001b[39m Counter(ranks_count)\n",
      "Cell \u001b[1;32mIn[1], line 15\u001b[0m, in \u001b[0;36m<listcomp>\u001b[1;34m(.0)\u001b[0m\n\u001b[0;32m     13\u001b[0m \u001b[39mdef\u001b[39;00m \u001b[39mget_hand_rank\u001b[39m(hand):\n\u001b[0;32m     14\u001b[0m     rank_values \u001b[39m=\u001b[39m {rank\u001b[39m.\u001b[39mlower(): i \u001b[39mfor\u001b[39;00m i, rank \u001b[39min\u001b[39;00m \u001b[39menumerate\u001b[39m(ranks)}\n\u001b[1;32m---> 15\u001b[0m     ranks_count \u001b[39m=\u001b[39m [get_rank(card)\u001b[39m.\u001b[39mlower() \u001b[39mfor\u001b[39;00m card \u001b[39min\u001b[39;00m hand]\n\u001b[0;32m     16\u001b[0m     suits_count \u001b[39m=\u001b[39m [get_suit(card) \u001b[39mfor\u001b[39;00m card \u001b[39min\u001b[39;00m hand]\n\u001b[0;32m     17\u001b[0m     rank_counts \u001b[39m=\u001b[39m Counter(ranks_count)\n",
      "Cell \u001b[1;32mIn[1], line 8\u001b[0m, in \u001b[0;36mget_rank\u001b[1;34m(card)\u001b[0m\n\u001b[0;32m      7\u001b[0m \u001b[39mdef\u001b[39;00m \u001b[39mget_rank\u001b[39m(card):\n\u001b[1;32m----> 8\u001b[0m     \u001b[39mreturn\u001b[39;00m card[\u001b[39m0\u001b[39;49m]\n",
      "\u001b[1;31mTypeError\u001b[0m: 'int' object is not subscriptable"
     ]
    }
   ],
   "source": [
    "import random\n",
    "\n",
    "# USER INPUTS\n",
    "my_hand = [\"4s\", \"2h\"]\n",
    "\n",
    "def sample_flop_and_player_hands(all_cards, n_players ):\n",
    "    hands = []\n",
    "    for _ in range(n_players):\n",
    "        hand = [all_cards.pop(random.randint(0, len(all_cards)-1)) for _ in range(2)]\n",
    "        hands.append(hand)\n",
    "    flop = [all_cards.pop(random.randint(0, len(all_cards)-1)) for _ in range(5)]\n",
    "    return hands, flop\n",
    "\n",
    "\n",
    "def subtract(all_cards,known_flops):\n",
    "    filtered = []\n",
    "    for card in enumerate(all_cards):\n",
    "        isFlop = False\n",
    "        for x in known_flops:\n",
    "            if card == x:\n",
    "                isFlop = True\n",
    "                break\n",
    "        if not isFlop:\n",
    "            filtered.append(card)\n",
    "\n",
    "    return filtered\n",
    "\n",
    "\n",
    "def get_deck(my_hand):\n",
    "    full_deck = []\n",
    "    for suit in ['s','c','h','d']:\n",
    "        for num in [\"2\",\"3\",\"4\",\"5\",\"6\",\"7\",\"8\",\"9\",\"t\",\"j\",\"q\",\"k\",\"a\"]:\n",
    "            if num+suit not in my_hand:\n",
    "                full_deck.append(num+suit)\n",
    "    return full_deck\n",
    "\n",
    "\n",
    "from tqdm import tqdm\n",
    "#pick cards for flopp and other players\n",
    "my_hand = [\"ks\", \"kc\"]\n",
    "\n",
    "\n",
    "#calculate values for my hand:\n",
    "all_cards = get_deck(my_hand)\n",
    "n_other_players = 5\n",
    "\n",
    "total_games = 0\n",
    "num_wins = 0\n",
    "num_draws = 0\n",
    "num_losses = 0\n",
    "\n",
    "num_iterations = 10000000\n",
    "known_flops = []\n",
    "\n",
    "\n",
    "all_cards = subtract(all_cards, known_flops)\n",
    "for i, x in enumerate(range(num_iterations)):\n",
    "    all_cards_copy = all_cards.copy()\n",
    "    hands, flop = sample_flop_and_player_hands(all_cards_copy,n_other_players )\n",
    "    res = eval_hands_QUICK(my_hand, hands, flop)\n",
    "    if res ==1:\n",
    "        num_wins +=1\n",
    "    elif res == 0:\n",
    "        num_draws +=1 \n",
    "    elif res == -1:\n",
    "        num_losses +=1\n",
    "    if i %1000 == 0:\n",
    "        r_avg = num_wins/(num_wins+num_losses)\n",
    "        print(f\"Running Average: {r_avg}\", end=\"\\r\")\n",
    "\n"
   ]
  }
 ],
 "metadata": {
  "kernelspec": {
   "display_name": "new",
   "language": "python",
   "name": "python3"
  },
  "language_info": {
   "codemirror_mode": {
    "name": "ipython",
    "version": 3
   },
   "file_extension": ".py",
   "mimetype": "text/x-python",
   "name": "python",
   "nbconvert_exporter": "python",
   "pygments_lexer": "ipython3",
   "version": "3.11.0"
  },
  "orig_nbformat": 4
 },
 "nbformat": 4,
 "nbformat_minor": 2
}
